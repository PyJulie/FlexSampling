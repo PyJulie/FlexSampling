{
 "cells": [
  {
   "cell_type": "code",
   "execution_count": null,
   "id": "f66dc1ee",
   "metadata": {},
   "outputs": [
    {
     "name": "stderr",
     "output_type": "stream",
     "text": [
      "100%|██████████| 8341/8341 [00:00<00:00, 757572.32it/s]\n",
      "  0%|          | 0/8341 [00:00<?, ?it/s]"
     ]
    },
    {
     "name": "stdout",
     "output_type": "stream",
     "text": [
      "Show image for 54e755f4bae47850e86cdfdb\n"
     ]
    },
    {
     "name": "stderr",
     "output_type": "stream",
     "text": [
      "\r",
      "  0%|          | 1/8341 [00:01<2:53:13,  1.25s/it]"
     ]
    },
    {
     "name": "stdout",
     "output_type": "stream",
     "text": [
      "cannot identify image file <_io.BytesIO object at 0x000002B255625180>\n",
      "Show image for 54e755f5bae47850e86cdfea\n"
     ]
    },
    {
     "name": "stderr",
     "output_type": "stream",
     "text": [
      "\r",
      "  0%|          | 2/8341 [00:02<2:47:13,  1.20s/it]"
     ]
    },
    {
     "name": "stdout",
     "output_type": "stream",
     "text": [
      "cannot identify image file <_io.BytesIO object at 0x000002B256D5CE50>\n",
      "Show image for 54e755f8bae47850e86ce008\n"
     ]
    },
    {
     "name": "stderr",
     "output_type": "stream",
     "text": [
      "\r",
      "  0%|          | 3/8341 [00:04<3:43:15,  1.61s/it]"
     ]
    },
    {
     "name": "stdout",
     "output_type": "stream",
     "text": [
      "cannot identify image file <_io.BytesIO object at 0x000002B250F47770>\n",
      "Show image for 54e755f8bae47850e86ce00d\n"
     ]
    },
    {
     "name": "stderr",
     "output_type": "stream",
     "text": [
      "\r",
      "  0%|          | 4/8341 [00:08<5:30:06,  2.38s/it]"
     ]
    },
    {
     "name": "stdout",
     "output_type": "stream",
     "text": [
      "cannot identify image file <_io.BytesIO object at 0x000002B256D74090>\n",
      "Show image for 54e755f8bae47850e86ce012\n"
     ]
    },
    {
     "name": "stderr",
     "output_type": "stream",
     "text": [
      "\r",
      "  0%|          | 5/8341 [00:09<4:42:36,  2.03s/it]"
     ]
    },
    {
     "name": "stdout",
     "output_type": "stream",
     "text": [
      "cannot identify image file <_io.BytesIO object at 0x000002B25564BD10>\n",
      "Show image for 54e755fabae47850e86ce02b\n"
     ]
    },
    {
     "name": "stderr",
     "output_type": "stream",
     "text": [
      "\r",
      "  0%|          | 6/8341 [00:12<5:29:16,  2.37s/it]"
     ]
    },
    {
     "name": "stdout",
     "output_type": "stream",
     "text": [
      "cannot identify image file <_io.BytesIO object at 0x000002B2556A71D0>\n",
      "Show image for 54e755fbbae47850e86ce03a\n"
     ]
    }
   ],
   "source": [
    "import requests\n",
    "import json\n",
    "import io\n",
    "import os.path\n",
    "from PIL import Image\n",
    "import tqdm\n",
    "def GetImageListFromISICArchive (numOfImagesToGet):\n",
    "    r = requests.get('https://isic-archive.com/api/v2/image?limit=' + numOfImagesToGet + '&sort=name&sortdir=1&detail=true')\n",
    "    listOfImages = r.json()\n",
    "    return listOfImages\n",
    "\n",
    "def GetImageByID(id):\n",
    "    print (\"Show image for \" + id)\n",
    "    urlString = 'https://isic-archive.com/api/v2/image/{}/download'.format(id)\n",
    "    r2 = requests.get(urlString)\n",
    "    imageBytes = r2._content\n",
    "    image = Image.open(io.BytesIO(imageBytes))\n",
    "    return image \n",
    "\n",
    "with open('../dataset/metadata.csv') as f:\n",
    "    txt = f.readlines()\n",
    "    \n",
    "c = 0\n",
    "\n",
    "idxs = []\n",
    "names = []\n",
    "for line in tqdm.tqdm(txt[1:]):\n",
    "    line = line.strip('\\n').split(',')\n",
    "    id = line[0]\n",
    "    name = line[1]\n",
    "    idxs.append(id)\n",
    "    names.append(name)\n",
    "    class_name = line[6]\n",
    "\n",
    "    \n",
    "for i in tqdm.tqdm(range(len(idxs))):\n",
    "    try:\n",
    "        id = idxs[i]\n",
    "        name = names[i]\n",
    "        image = GetImageByID(id)\n",
    "        image = image.resize((384,384))\n",
    "        image.save('./images/additional/'+name+'.jpg')\n",
    "    except Exception as e:\n",
    "        print(e)"
   ]
  },
  {
   "cell_type": "code",
   "execution_count": null,
   "id": "6705d0ac",
   "metadata": {},
   "outputs": [],
   "source": []
  }
 ],
 "metadata": {
  "kernelspec": {
   "display_name": "Python 3 (ipykernel)",
   "language": "python",
   "name": "python3"
  },
  "language_info": {
   "codemirror_mode": {
    "name": "ipython",
    "version": 3
   },
   "file_extension": ".py",
   "mimetype": "text/x-python",
   "name": "python",
   "nbconvert_exporter": "python",
   "pygments_lexer": "ipython3",
   "version": "3.9.7"
  }
 },
 "nbformat": 4,
 "nbformat_minor": 5
}
